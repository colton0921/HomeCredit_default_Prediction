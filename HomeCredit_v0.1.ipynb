{
 "metadata": {
  "language_info": {
   "codemirror_mode": {
    "name": "ipython",
    "version": 3
   },
   "file_extension": ".py",
   "mimetype": "text/x-python",
   "name": "python",
   "nbconvert_exporter": "python",
   "pygments_lexer": "ipython3",
   "version": "3.7.6-final"
  },
  "orig_nbformat": 2,
  "kernelspec": {
   "name": "python3",
   "display_name": "Python 3",
   "language": "python"
  }
 },
 "nbformat": 4,
 "nbformat_minor": 2,
 "cells": [
  {
   "cell_type": "code",
   "execution_count": 1,
   "metadata": {},
   "outputs": [
    {
     "output_type": "stream",
     "name": "stdout",
     "text": [
      "C:\\Users\\User\\AppData\\Roaming\\jupyter\n"
     ]
    }
   ],
   "source": [
    "from jupyter_core.paths import jupyter_data_dir\n",
    "print(jupyter_data_dir())"
   ]
  },
  {
   "cell_type": "code",
   "execution_count": 2,
   "metadata": {},
   "outputs": [
    {
     "output_type": "execute_result",
     "data": {
      "text/plain": [
       "'C:\\\\ProgramData\\\\Anaconda3\\\\python.exe'"
      ]
     },
     "metadata": {},
     "execution_count": 2
    }
   ],
   "source": [
    "sys.executable"
   ]
  },
  {
   "cell_type": "code",
   "execution_count": 3,
   "metadata": {},
   "outputs": [],
   "source": [
    "\n",
    "import seaborn as sns"
   ]
  },
  {
   "cell_type": "code",
   "execution_count": 2,
   "metadata": {},
   "outputs": [],
   "source": [
    "# 1) Business Question\n",
    "# 2) Data Collection\n",
    "# 3) Preprocessing\n",
    "# 4) Model(s) Creation\n",
    "# 5) Model Evaluation and Comparison\n",
    "# 6) Conclusion and Future Improvements\n",
    "import pandas as pd\n",
    "import numpy as np\n",
    "import math\n",
    "from datetime import datetime\n",
    "import scipy\n",
    "from scipy import stats\n",
    "#Graph\n",
    "import seaborn as sns\n",
    "import matplotlib.pyplot as plt\n",
    "#sklearn\n",
    "from sklearn.model_selection import train_test_split\n",
    "from sklearn import linear_model\n",
    "from sklearn.metrics import mean_squared_error, r2_score, mean_absolute_error\n",
    "\n",
    "from  sklearn.impute import SimpleImputer   "
   ]
  },
  {
   "cell_type": "code",
   "execution_count": 2,
   "metadata": {},
   "outputs": [],
   "source": [
    "# df = pd.read_csv(\"./data/application_train.csv\" )\n",
    "# \"','\".join(list(df.columns))\n",
    "columns_to_drop = ['EXT_SOURCE_1','EXT_SOURCE_2','APARTMENTS_AVG','BASEMENTAREA_AVG','YEARS_BEGINEXPLUATATION_AVG','YEARS_BUILD_AVG','COMMONAREA_AVG','ELEVATORS_AVG','ENTRANCES_AVG','FLOORSMAX_AVG','FLOORSMIN_AVG','LANDAREA_AVG','LIVINGAPARTMENTS_AVG','LIVINGAREA_AVG','NONLIVINGAPARTMENTS_AVG','NONLIVINGAREA_AVG','APARTMENTS_MODE','BASEMENTAREA_MODE','YEARS_BEGINEXPLUATATION_MODE','YEARS_BUILD_MODE','COMMONAREA_MODE','ELEVATORS_MODE','ENTRANCES_MODE','FLOORSMAX_MODE','FLOORSMIN_MODE','LANDAREA_MODE','LIVINGAPARTMENTS_MODE','LIVINGAREA_MODE','NONLIVINGAPARTMENTS_MODE','NONLIVINGAREA_MODE','APARTMENTS_MEDI','BASEMENTAREA_MEDI','YEARS_BEGINEXPLUATATION_MEDI','YEARS_BUILD_MEDI','COMMONAREA_MEDI','ELEVATORS_MEDI','ENTRANCES_MEDI','FLOORSMAX_MEDI','FLOORSMIN_MEDI','LANDAREA_MEDI','LIVINGAPARTMENTS_MEDI','LIVINGAREA_MEDI','NONLIVINGAPARTMENTS_MEDI','NONLIVINGAREA_MEDI','FONDKAPREMONT_MODE','HOUSETYPE_MODE','TOTALAREA_MODE','WALLSMATERIAL_MODE','EMERGENCYSTATE_MODE','OBS_30_CNT_SOCIAL_CIRCLE','DEF_30_CNT_SOCIAL_CIRCLE','OBS_60_CNT_SOCIAL_CIRCLE','DEF_60_CNT_SOCIAL_CIRCLE','DAYS_LAST_PHONE_CHANGE','FLAG_DOCUMENT_2','FLAG_DOCUMENT_3','FLAG_DOCUMENT_4','FLAG_DOCUMENT_5','FLAG_DOCUMENT_6','FLAG_DOCUMENT_7','FLAG_DOCUMENT_8','FLAG_DOCUMENT_9','FLAG_DOCUMENT_10','FLAG_DOCUMENT_11','FLAG_DOCUMENT_12','FLAG_DOCUMENT_13','FLAG_DOCUMENT_14','FLAG_DOCUMENT_15','FLAG_DOCUMENT_16','FLAG_DOCUMENT_17','FLAG_DOCUMENT_18','FLAG_DOCUMENT_19','FLAG_DOCUMENT_20','FLAG_DOCUMENT_21','AMT_REQ_CREDIT_BUREAU_HOUR','AMT_REQ_CREDIT_BUREAU_DAY','AMT_REQ_CREDIT_BUREAU_WEEK','AMT_REQ_CREDIT_BUREAU_MON','AMT_REQ_CREDIT_BUREAU_QRT','AMT_REQ_CREDIT_BUREAU_YEAR']   #'EXT_SOURCE_3'"
   ]
  },
  {
   "cell_type": "code",
   "execution_count": 7,
   "metadata": {},
   "outputs": [
    {
     "output_type": "stream",
     "name": "stdout",
     "text": [
      "original shape:  (307511, 122)\n",
      "shape after:  (246546, 39)\n"
     ]
    },
    {
     "output_type": "execute_result",
     "data": {
      "text/plain": [
       "   TARGET NAME_CONTRACT_TYPE CODE_GENDER FLAG_OWN_CAR FLAG_OWN_REALTY  \\\n",
       "0       1         Cash loans           M            N               Y   \n",
       "2       0    Revolving loans           M            Y               Y   \n",
       "5       0         Cash loans           M            N               Y   \n",
       "6       0         Cash loans           F            Y               Y   \n",
       "7       0         Cash loans           M            Y               Y   \n",
       "\n",
       "   CNT_CHILDREN  AMT_INCOME_TOTAL  AMT_CREDIT  AMT_ANNUITY  AMT_GOODS_PRICE  \\\n",
       "0             0          202500.0    406597.5      24700.5         351000.0   \n",
       "2             0           67500.0    135000.0       6750.0         135000.0   \n",
       "5             0           99000.0    490495.5      27517.5         454500.0   \n",
       "6             1          171000.0   1560726.0      41301.0        1395000.0   \n",
       "7             0          360000.0   1530000.0      42075.0        1530000.0   \n",
       "\n",
       "   ... WEEKDAY_APPR_PROCESS_START HOUR_APPR_PROCESS_START  \\\n",
       "0  ...                  WEDNESDAY                      10   \n",
       "2  ...                     MONDAY                       9   \n",
       "5  ...                  WEDNESDAY                      16   \n",
       "6  ...                     SUNDAY                      16   \n",
       "7  ...                     MONDAY                      16   \n",
       "\n",
       "  REG_REGION_NOT_LIVE_REGION REG_REGION_NOT_WORK_REGION  \\\n",
       "0                          0                          0   \n",
       "2                          0                          0   \n",
       "5                          0                          0   \n",
       "6                          0                          0   \n",
       "7                          0                          0   \n",
       "\n",
       "  LIVE_REGION_NOT_WORK_REGION  REG_CITY_NOT_LIVE_CITY  REG_CITY_NOT_WORK_CITY  \\\n",
       "0                           0                       0                       0   \n",
       "2                           0                       0                       0   \n",
       "5                           0                       0                       0   \n",
       "6                           0                       0                       0   \n",
       "7                           0                       0                       1   \n",
       "\n",
       "   LIVE_CITY_NOT_WORK_CITY       ORGANIZATION_TYPE  EXT_SOURCE_3  \n",
       "0                        0  Business Entity Type 3      0.139376  \n",
       "2                        0              Government      0.729567  \n",
       "5                        0                   Other      0.621226  \n",
       "6                        0  Business Entity Type 3      0.492060  \n",
       "7                        1                   Other      0.540654  \n",
       "\n",
       "[5 rows x 39 columns]"
      ],
      "text/html": "<div>\n<style scoped>\n    .dataframe tbody tr th:only-of-type {\n        vertical-align: middle;\n    }\n\n    .dataframe tbody tr th {\n        vertical-align: top;\n    }\n\n    .dataframe thead th {\n        text-align: right;\n    }\n</style>\n<table border=\"1\" class=\"dataframe\">\n  <thead>\n    <tr style=\"text-align: right;\">\n      <th></th>\n      <th>TARGET</th>\n      <th>NAME_CONTRACT_TYPE</th>\n      <th>CODE_GENDER</th>\n      <th>FLAG_OWN_CAR</th>\n      <th>FLAG_OWN_REALTY</th>\n      <th>CNT_CHILDREN</th>\n      <th>AMT_INCOME_TOTAL</th>\n      <th>AMT_CREDIT</th>\n      <th>AMT_ANNUITY</th>\n      <th>AMT_GOODS_PRICE</th>\n      <th>...</th>\n      <th>WEEKDAY_APPR_PROCESS_START</th>\n      <th>HOUR_APPR_PROCESS_START</th>\n      <th>REG_REGION_NOT_LIVE_REGION</th>\n      <th>REG_REGION_NOT_WORK_REGION</th>\n      <th>LIVE_REGION_NOT_WORK_REGION</th>\n      <th>REG_CITY_NOT_LIVE_CITY</th>\n      <th>REG_CITY_NOT_WORK_CITY</th>\n      <th>LIVE_CITY_NOT_WORK_CITY</th>\n      <th>ORGANIZATION_TYPE</th>\n      <th>EXT_SOURCE_3</th>\n    </tr>\n  </thead>\n  <tbody>\n    <tr>\n      <th>0</th>\n      <td>1</td>\n      <td>Cash loans</td>\n      <td>M</td>\n      <td>N</td>\n      <td>Y</td>\n      <td>0</td>\n      <td>202500.0</td>\n      <td>406597.5</td>\n      <td>24700.5</td>\n      <td>351000.0</td>\n      <td>...</td>\n      <td>WEDNESDAY</td>\n      <td>10</td>\n      <td>0</td>\n      <td>0</td>\n      <td>0</td>\n      <td>0</td>\n      <td>0</td>\n      <td>0</td>\n      <td>Business Entity Type 3</td>\n      <td>0.139376</td>\n    </tr>\n    <tr>\n      <th>2</th>\n      <td>0</td>\n      <td>Revolving loans</td>\n      <td>M</td>\n      <td>Y</td>\n      <td>Y</td>\n      <td>0</td>\n      <td>67500.0</td>\n      <td>135000.0</td>\n      <td>6750.0</td>\n      <td>135000.0</td>\n      <td>...</td>\n      <td>MONDAY</td>\n      <td>9</td>\n      <td>0</td>\n      <td>0</td>\n      <td>0</td>\n      <td>0</td>\n      <td>0</td>\n      <td>0</td>\n      <td>Government</td>\n      <td>0.729567</td>\n    </tr>\n    <tr>\n      <th>5</th>\n      <td>0</td>\n      <td>Cash loans</td>\n      <td>M</td>\n      <td>N</td>\n      <td>Y</td>\n      <td>0</td>\n      <td>99000.0</td>\n      <td>490495.5</td>\n      <td>27517.5</td>\n      <td>454500.0</td>\n      <td>...</td>\n      <td>WEDNESDAY</td>\n      <td>16</td>\n      <td>0</td>\n      <td>0</td>\n      <td>0</td>\n      <td>0</td>\n      <td>0</td>\n      <td>0</td>\n      <td>Other</td>\n      <td>0.621226</td>\n    </tr>\n    <tr>\n      <th>6</th>\n      <td>0</td>\n      <td>Cash loans</td>\n      <td>F</td>\n      <td>Y</td>\n      <td>Y</td>\n      <td>1</td>\n      <td>171000.0</td>\n      <td>1560726.0</td>\n      <td>41301.0</td>\n      <td>1395000.0</td>\n      <td>...</td>\n      <td>SUNDAY</td>\n      <td>16</td>\n      <td>0</td>\n      <td>0</td>\n      <td>0</td>\n      <td>0</td>\n      <td>0</td>\n      <td>0</td>\n      <td>Business Entity Type 3</td>\n      <td>0.492060</td>\n    </tr>\n    <tr>\n      <th>7</th>\n      <td>0</td>\n      <td>Cash loans</td>\n      <td>M</td>\n      <td>Y</td>\n      <td>Y</td>\n      <td>0</td>\n      <td>360000.0</td>\n      <td>1530000.0</td>\n      <td>42075.0</td>\n      <td>1530000.0</td>\n      <td>...</td>\n      <td>MONDAY</td>\n      <td>16</td>\n      <td>0</td>\n      <td>0</td>\n      <td>0</td>\n      <td>0</td>\n      <td>1</td>\n      <td>1</td>\n      <td>Other</td>\n      <td>0.540654</td>\n    </tr>\n  </tbody>\n</table>\n<p>5 rows × 39 columns</p>\n</div>"
     },
     "metadata": {},
     "execution_count": 7
    }
   ],
   "source": [
    "#Load DataFrame\n",
    "df = pd.read_csv(\"./data/application_train.csv\" ) #  index_col=0  ID which is used for mapping other excel files goes to index column\n",
    "\n",
    "# df.head()\n",
    "# df.isna().sum()\n",
    "#df.duplicated().sum()\n",
    "#df.dropna(inplace=True,axis=0)\n",
    "\n",
    "print('original shape: ' , df.shape)\n",
    "#--------------------------------------------------Data Preprocessing--------------------------------------------------\n",
    "\n",
    "\n",
    "#>>>Missing values\n",
    "#drop these columns > open to use dimensional reduction tool later\n",
    "#Method 1:  \n",
    "df.drop(columns=columns_to_drop, inplace=True)\n",
    "#drop these columns with around 50% missing values\n",
    "df.drop(columns=['OWN_CAR_AGE','OCCUPATION_TYPE'], inplace=True)\n",
    "#drop ID\n",
    "df.drop(columns=['SK_ID_CURR'], inplace=True)\n",
    "#To fill up missing values for numerical columns\n",
    "#Method 1:\n",
    "#for col in ['AMT_ANNUITY','AMT_GOODS_PRICE','CNT_FAM_MEMBERS']:\n",
    "#    df[col].fillna(  df[col].median()  ,inplace=True)\n",
    "#Method 2:\n",
    "from  sklearn.impute import SimpleImputer      \n",
    "df[['AMT_ANNUITY','AMT_GOODS_PRICE','CNT_FAM_MEMBERS']] = SimpleImputer(strategy=\"median\").fit_transform(df[['AMT_ANNUITY','AMT_GOODS_PRICE','CNT_FAM_MEMBERS']])\n",
    "#To fill up missing values for categorical columns\n",
    "df['NAME_TYPE_SUITE'].fillna(  df['NAME_TYPE_SUITE'].mode()[0]  ,inplace=True)\n",
    "#Method 2: (super slow) df[['NAME_TYPE_SUITE']] = SimpleImputer(strategy=\"most_frequent\").fit_transform(df[['NAME_TYPE_SUITE']])    \n",
    "\n",
    "\n",
    "df.dropna(inplace=True,axis=0)  #To keep EXT_SOURCE_3  which has correlation, but with too many missing values\n",
    "\n",
    "#--------------------------------------------------Data Preprocessing--------------------------------------------------\n",
    "print('shape after: ' , df.shape)\n",
    "df.head()"
   ]
  },
  {
   "cell_type": "code",
   "execution_count": 22,
   "metadata": {},
   "outputs": [
    {
     "output_type": "stream",
     "name": "stdout",
     "text": [
      "NAME_CONTRACT_TYPE ---------------------------------------------------------:\n",
      " Cash loans         223574\n",
      "Revolving loans     22972\n",
      "Name: NAME_CONTRACT_TYPE, dtype: int64\n",
      "CODE_GENDER ---------------------------------------------------------:\n",
      " F      163835\n",
      "M       82707\n",
      "XNA         4\n",
      "Name: CODE_GENDER, dtype: int64\n",
      "FLAG_OWN_CAR ---------------------------------------------------------:\n",
      " N    160277\n",
      "Y     86269\n",
      "Name: FLAG_OWN_CAR, dtype: int64\n",
      "FLAG_OWN_REALTY ---------------------------------------------------------:\n",
      " Y    170172\n",
      "N     76374\n",
      "Name: FLAG_OWN_REALTY, dtype: int64\n",
      "NAME_TYPE_SUITE ---------------------------------------------------------:\n",
      " Unaccompanied      201299\n",
      "Family              31759\n",
      "Spouse, partner      8768\n",
      "Children             2551\n",
      "Other_B              1323\n",
      "Other_A               637\n",
      "Group of people       209\n",
      "Name: NAME_TYPE_SUITE, dtype: int64\n",
      "NAME_INCOME_TYPE ---------------------------------------------------------:\n",
      " Working                 126994\n",
      "Commercial associate     56746\n",
      "Pensioner                44309\n",
      "State servant            18474\n",
      "Student                     14\n",
      "Unemployed                   5\n",
      "Businessman                  4\n",
      "Name: NAME_INCOME_TYPE, dtype: int64\n",
      "NAME_EDUCATION_TYPE ---------------------------------------------------------:\n",
      " Secondary / secondary special    173464\n",
      "Higher education                  62203\n",
      "Incomplete higher                  7890\n",
      "Lower secondary                    2852\n",
      "Academic degree                     137\n",
      "Name: NAME_EDUCATION_TYPE, dtype: int64\n",
      "NAME_FAMILY_STATUS ---------------------------------------------------------:\n",
      " Married                 160348\n",
      "Single / not married     34435\n",
      "Civil marriage           22703\n",
      "Separated                16149\n",
      "Widow                    12910\n",
      "Unknown                      1\n",
      "Name: NAME_FAMILY_STATUS, dtype: int64\n",
      "NAME_HOUSING_TYPE ---------------------------------------------------------:\n",
      " House / apartment      219804\n",
      "With parents            11284\n",
      "Municipal apartment      8815\n",
      "Rented apartment         3625\n",
      "Office apartment         2087\n",
      "Co-op apartment           931\n",
      "Name: NAME_HOUSING_TYPE, dtype: int64\n",
      "WEEKDAY_APPR_PROCESS_START ---------------------------------------------------------:\n",
      " WEDNESDAY    42446\n",
      "TUESDAY      42094\n",
      "FRIDAY       40893\n",
      "THURSDAY     40700\n",
      "MONDAY       40142\n",
      "SATURDAY     27545\n",
      "SUNDAY       12726\n",
      "Name: WEEKDAY_APPR_PROCESS_START, dtype: int64\n",
      "ORGANIZATION_TYPE ---------------------------------------------------------:\n",
      " Business Entity Type 3    53764\n",
      "XNA                       44305\n",
      "Self-employed             28789\n",
      "Other                     13476\n",
      "Medicine                   9558\n",
      "Business Entity Type 2     8867\n",
      "Government                 8765\n",
      "School                     7544\n",
      "Trade: type 7              5984\n",
      "Kindergarten               5794\n",
      "Construction               5230\n",
      "Business Entity Type 1     4929\n",
      "Transport: type 4          4329\n",
      "Industry: type 9           2880\n",
      "Trade: type 3              2802\n",
      "Industry: type 3           2686\n",
      "Security                   2606\n",
      "Housing                    2414\n",
      "Industry: type 11          2225\n",
      "Military                   2216\n",
      "Bank                       2106\n",
      "Police                     2056\n",
      "Transport: type 2          1943\n",
      "Agriculture                1876\n",
      "Security Ministries        1754\n",
      "Postal                     1723\n",
      "Trade: type 2              1448\n",
      "Restaurant                 1366\n",
      "Services                   1213\n",
      "University                 1111\n",
      "Industry: type 7           1095\n",
      "Transport: type 3           876\n",
      "Industry: type 1            853\n",
      "Electricity                 808\n",
      "Hotel                       774\n",
      "Industry: type 4            702\n",
      "Industry: type 5            522\n",
      "Trade: type 6               515\n",
      "Emergency                   485\n",
      "Telecom                     483\n",
      "Insurance                   467\n",
      "Industry: type 2            385\n",
      "Advertising                 349\n",
      "Realtor                     316\n",
      "Culture                     306\n",
      "Industry: type 12           298\n",
      "Trade: type 1               279\n",
      "Mobile                      260\n",
      "Legal Services              243\n",
      "Cleaning                    203\n",
      "Transport: type 1           171\n",
      "Industry: type 10            92\n",
      "Industry: type 6             86\n",
      "Religion                     68\n",
      "Trade: type 4                52\n",
      "Industry: type 13            45\n",
      "Trade: type 5                38\n",
      "Industry: type 8             16\n",
      "Name: ORGANIZATION_TYPE, dtype: int64\n"
     ]
    }
   ],
   "source": [
    "for col in df.columns:\n",
    "    #print(type(df[col][0]))\n",
    "    if (type(df[col][0])==str) :\n",
    "        #print(col , '  :  ' , df[col].unique())\n",
    "        print(col, '---------------------------------------------------------:\\n' , df[col].value_counts())"
   ]
  },
  {
   "cell_type": "code",
   "execution_count": null,
   "metadata": {},
   "outputs": [],
   "source": [
    "##Drop 50%\n",
    "#Load DataFrame\n",
    "df = pd.read_csv(\"./data/application_train.csv\" )#  , index_col=0 ID which is used for mapping other excel files goes to index column\n",
    "\n",
    "# df.head()\n",
    "# df.isna().sum()\n",
    "#df.duplicated().sum()\n",
    "#df.dropna(inplace=True,axis=0)\n",
    "\n",
    "print('original shape: ' , df.shape)\n",
    "#--------------------------------------------------Data Preprocessing--------------------------------------------------\n",
    "\n",
    "#>>>Missing values\n",
    "#drop these columns with around 50% missing values\n",
    "df = df.dropna(axis=1, thresh=int(0.5*len(df)))\n",
    "df.drop(columns=['OCCUPATION_TYPE'], inplace=True)\n",
    "\n",
    "\n",
    "#To fill up missing values for numerical columns\n",
    "num_lst, obj_lst =[],[]\n",
    "for col in df.columns:\n",
    "    if df[col].isna().sum() != 0 :\n",
    "        if (type(df[col][0])==np.float64) | (type(df[col][0])==np.int64):       #type(df['AMT_ANNUITY'][0])==np.float64\n",
    "            num_lst.append(col)\n",
    "        else:\n",
    "            obj_lst.append(col)\n",
    "print('num_lst with missing value was ' ,num_lst)\n",
    "df[num_lst] = SimpleImputer(strategy=\"median\").fit_transform(df[num_lst])\n",
    "#To fill up missing values for categorical columns\n",
    "for obj in obj_lst:\n",
    "    df[obj].fillna(  df[obj].mode()[0]  ,inplace=True)\n",
    "#Method 2: (super slow) df[['NAME_TYPE_SUITE']] = SimpleImputer(strategy=\"most_frequent\").fit_transform(df[['NAME_TYPE_SUITE']])    \n",
    "\n",
    "#--------------------------------------------------Data Preprocessing--------------------------------------------------\n",
    "print('shape after: ' , df.shape)\n",
    "df.head()\n",
    "df.isna().sum()"
   ]
  },
  {
   "cell_type": "code",
   "execution_count": 58,
   "metadata": {},
   "outputs": [],
   "source": [
    "#Any missing value\n",
    "lst=[]\n",
    "for col in df.columns:\n",
    "    if df[col].isna().sum() != 0:\n",
    "        print(col , '...' , df[col].isna().sum())\n",
    "        lst.append(col)\n",
    "##print(df[[col]].info())"
   ]
  },
  {
   "cell_type": "code",
   "execution_count": 103,
   "metadata": {},
   "outputs": [
    {
     "output_type": "stream",
     "name": "stdout",
     "text": [
      "original shape:  (307511, 122)\n"
     ]
    },
    {
     "output_type": "execute_result",
     "data": {
      "text/plain": [
       "106"
      ]
     },
     "metadata": {},
     "execution_count": 103
    }
   ],
   "source": [
    "##Drop 50%\n",
    "#Load DataFrame\n",
    "df = pd.read_csv(\"./data/application_train.csv\" )#  , index_col=0 ID which is used for mapping other excel files goes to index column\n",
    "\n",
    "# df.head()\n",
    "# df.isna().sum()\n",
    "#df.duplicated().sum()\n",
    "#df.dropna(inplace=True,axis=0)\n",
    "\n",
    "print('original shape: ' , df.shape)\n",
    "\n",
    "df_corr = pd.DataFrame( df.corr()['TARGET'])\n",
    "df_corr\n",
    "\n",
    "len([df[list(df_corr.index)[x]].isna().sum() for x in range(len(pd.DataFrame(df_corr)['TARGET']))])\n",
    "#    print(  'name: ' ,list(df_corr.index)[x]  , 'corr:      ' , pd.DataFrame(df_corr)['TARGET'][x] , 'missing values: ' , df[list(df_corr.index)[x]].isna().sum())"
   ]
  },
  {
   "cell_type": "code",
   "execution_count": 115,
   "metadata": {},
   "outputs": [
    {
     "output_type": "stream",
     "name": "stdout",
     "text": [
      "shape:  (15, 2)\n                   TARGET  MissingValue\nEXT_SOURCE_3    -0.178919         60965\nEXT_SOURCE_1    -0.155317        173378\nFLOORSMAX_AVG   -0.044003        153020\nFLOORSMAX_MEDI  -0.043768        153020\nFLOORSMAX_MODE  -0.043226        153020\nELEVATORS_AVG   -0.034199        163891\nELEVATORS_MEDI  -0.033863        163891\nFLOORSMIN_AVG   -0.033614        208642\nFLOORSMIN_MEDI  -0.033394        208642\nLIVINGAREA_AVG  -0.032997        154350\nLIVINGAREA_MEDI -0.032739        154350\nFLOORSMIN_MODE  -0.032698        208642\nTOTALAREA_MODE  -0.032596        148431\nELEVATORS_MODE  -0.032131        163891\nLIVINGAREA_MODE -0.030685        154350\n"
     ]
    }
   ],
   "source": [
    "pd.set_option('display.max_rows', None)\n",
    "#for x in range(len(pd.DataFrame(df_corr)['TARGET'])):\n",
    "#    print(  'name: ' ,list(df_corr.index)[x]  , 'corr:      ' , pd.DataFrame(df_corr)['TARGET'][x] , 'missing values: ' , df[list(df_corr.index)[x]].isna().sum())\n",
    "df_corr = pd.DataFrame( df.corr()['TARGET'])\n",
    "df_corr['MissingValue'] = [df[list(df_corr.index)[x]].isna().sum() for x in range(len(pd.DataFrame(df_corr)['TARGET']))]\n",
    "df_corr = df_corr[df_corr['MissingValue']>30000].sort_values(by=['TARGET'])\n",
    "#Keep 3percent\n",
    "df_corr = df_corr[(df_corr['TARGET']<=-0.03)|(df_corr['TARGET']>=0.04)]\n",
    "print('shape: ',df_corr.shape)\n",
    "print(df_corr)\n"
   ]
  },
  {
   "cell_type": "code",
   "execution_count": 74,
   "metadata": {},
   "outputs": [
    {
     "output_type": "execute_result",
     "data": {
      "text/plain": [
       "106"
      ]
     },
     "metadata": {},
     "execution_count": 74
    }
   ],
   "source": [
    "df_corr.shape[0]\n",
    "for x in range(0,df_corr.shape[0]):\n",
    "    df_corr"
   ]
  },
  {
   "source": [
    "pd.set_option('display.max_rows', 10)"
   ],
   "cell_type": "code",
   "metadata": {},
   "execution_count": null,
   "outputs": []
  },
  {
   "cell_type": "code",
   "execution_count": null,
   "metadata": {},
   "outputs": [],
   "source": [
    "drop proper columns\n",
    "work on missing values (with mean and median)\n",
    "model coding"
   ]
  }
 ]
}